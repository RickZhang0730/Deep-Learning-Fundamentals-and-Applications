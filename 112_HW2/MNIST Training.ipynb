{
 "cells": [
  {
   "cell_type": "code",
   "execution_count": 1,
   "metadata": {},
   "outputs": [],
   "source": [
    "import os\n",
    "import cv2\n",
    "import numpy as np\n",
    "import matplotlib.pyplot as plt\n",
    "from PIL import Image\n",
    "import torch\n",
    "import torch.nn as nn\n",
    "import torch.optim as optim\n",
    "import torch.nn.functional as F\n",
    "import torchvision.transforms as transforms\n",
    "from torch.utils import data as data_\n",
    "from tqdm import tqdm\n",
    "from torchinfo import summary\n",
    "from torch.utils.data import DataLoader, Dataset, random_split\n",
    "from torchsummary import summary\n",
    "from torch.optim.lr_scheduler import StepLR\n",
    "from torchvision import datasets\n",
    "import torchvision\n",
    "import gzip\n"
   ]
  },
  {
   "cell_type": "code",
   "execution_count": 2,
   "metadata": {},
   "outputs": [],
   "source": [
    "# full_dataset = datasets.MNIST(root='data',train=True,download=True)"
   ]
  },
  {
   "cell_type": "code",
   "execution_count": 3,
   "metadata": {},
   "outputs": [],
   "source": [
    "class MNISTDataset(Dataset):\n",
    "  def __init__(self, data_file, label_file, transform=None):\n",
    "    self.transform=transform\n",
    "\n",
    "    with gzip.open(data_file, 'rb') as f:\n",
    "      self.images = np.frombuffer(f.read(), np.uint8, offset=16).reshape(-1,28,28)\n",
    "\n",
    "    with gzip.open(label_file, 'rb') as f:\n",
    "      self.images = np.frombuffer(f.read(), np.uint8, offset=8)\n",
    "  \n",
    "  def __len__(self):\n",
    "    return len(self.images)\n",
    "  \n",
    "  def __getitem__(self, idx):\n",
    "    image = self.images[idx]\n",
    "    label = self.images[idx]\n",
    "\n",
    "    image = np.reshape(image,(28,28))\n",
    "    image = np.resize(image, (224,224))\n",
    "\n",
    "    if self.transform:\n",
    "      image = self.transform(image)\n",
    "\n",
    "    return image, label"
   ]
  },
  {
   "cell_type": "code",
   "execution_count": 4,
   "metadata": {},
   "outputs": [],
   "source": [
    "transform = transforms.Compose([\n",
    "    transforms.Resize([224, 224]),  # 調整圖片大小\n",
    "    transforms.ToTensor(),  # 轉換成 Tensor 格式\n",
    "    transforms.Normalize((0.5,), (0.5,))\n",
    "])\n",
    "\n",
    "batch_size = 128\n",
    "train_data = torchvision.datasets.MNIST(root = './mnist',train = True,transform = transform ,download = True)\n",
    "\n",
    "train_size = len(train_data)\n",
    "valid_size = int(0.3 * train_size)  # 20% 的資料作為驗證集\n",
    "\n",
    "# 使用random_split切分資料集\n",
    "train_dataset, valid_dataset = random_split(train_data, [train_size - valid_size, valid_size])\n",
    "\n",
    "train_loader = data_.DataLoader(dataset = train_dataset, batch_size = batch_size, shuffle = True,num_workers = 8)\n",
    "valid_loader  = data_.DataLoader(dataset = valid_dataset, batch_size = batch_size, shuffle = True,num_workers = 8)\n",
    "\n",
    "test_data = torchvision.datasets.MNIST(root = './mnist/', train = False,transform = transform)\n",
    "test_loader = data_.DataLoader(dataset = test_data, batch_size = batch_size, shuffle = True,num_workers = 8)\n",
    "# test_x = torch.unsqueeze(test_data.test_data, dim = 1).type(torch.FloatTensor)[:2000]/255.\n",
    "# test_y = test_data.test_labels[:2000]\n"
   ]
  },
  {
   "cell_type": "code",
   "execution_count": 5,
   "metadata": {},
   "outputs": [],
   "source": [
    "class LeNet5(nn.Module):\n",
    "    def __init__(self, num_classes=10):\n",
    "        super(LeNet5, self).__init__()\n",
    "        self.features = nn.Sequential(\n",
    "            nn.Conv2d(1, 32, kernel_size=5),\n",
    "            nn.ReLU(inplace=True),\n",
    "            nn.MaxPool2d(kernel_size=2),\n",
    "            nn.Conv2d(32, 64, kernel_size=5),\n",
    "            nn.ReLU(inplace=True),\n",
    "            nn.MaxPool2d(kernel_size=2),\n",
    "            nn.Conv2d(64, 128, kernel_size=5),\n",
    "            nn.ReLU(inplace=True),\n",
    "            nn.MaxPool2d(kernel_size=2)\n",
    "        )\n",
    "        self.conv_output_size = self._get_conv_output_size((1, 224, 224))\n",
    "\n",
    "        self.classifier = nn.Sequential(\n",
    "            nn.Linear(self.conv_output_size, 1024),\n",
    "            nn.ReLU(inplace=True),\n",
    "            nn.Dropout(0.5),\n",
    "            nn.Linear(1024, 512),\n",
    "            nn.ReLU(inplace=True),\n",
    "            nn.Dropout(0.5),\n",
    "            nn.Linear(512, 256),  # 新增一個全連接層\n",
    "            nn.ReLU(inplace=True),\n",
    "            nn.Dropout(0.5),\n",
    "            nn.Linear(256, num_classes)  # 修改為 num_classes\n",
    "        )\n",
    "\n",
    "    def forward(self, x):\n",
    "        x = self.features(x)\n",
    "        x = torch.flatten(x, 1)\n",
    "        x = self.classifier(x)\n",
    "        return x\n",
    "\n",
    "    def _get_conv_output_size(self, shape):\n",
    "        x = torch.rand(1, *shape)\n",
    "        x = self.features(x)\n",
    "        x = torch.flatten(x, 1)\n",
    "        return x.size(1)\n"
   ]
  },
  {
   "cell_type": "code",
   "execution_count": 6,
   "metadata": {},
   "outputs": [],
   "source": [
    "import torchvision.models as models\n",
    "\n",
    "# model = models.vgg11(pretrained=True)\n",
    "# print(model.features[0])\n",
    "# model.features[0] = nn.Conv2d(1, 64, kernel_size=(3, 3), stride=(1, 1), padding=(1, 1))\n",
    "model = LeNet5(num_classes=10)\n",
    "device = torch.device(\"cuda\" if torch.cuda.is_available() else \"cpu\")\n",
    "model = model.to(device)\n",
    "\n",
    "# summary(model, (1, 224, 224))  # 此處的(3, 128, 128)是你期望的輸入圖像的形狀"
   ]
  },
  {
   "cell_type": "code",
   "execution_count": 7,
   "metadata": {},
   "outputs": [],
   "source": [
    "#Model Training\n",
    "loss_function = nn.CrossEntropyLoss()\n",
    "optimizer = optim.SGD(model.parameters(), lr=0.05, momentum=0.9, weight_decay=1e-4)\n",
    "# optimizer = optim.Adam(model.parameters(), lr=0.01)\n",
    "scheduler = StepLR(optimizer, step_size=1, gamma=0.9)"
   ]
  },
  {
   "cell_type": "code",
   "execution_count": 8,
   "metadata": {},
   "outputs": [],
   "source": [
    "#A Function to Predict Test Data\n",
    "def predict_data(model, data):\n",
    "    \n",
    "    num_correct = 0\n",
    "    num_samples = 0\n",
    "    \n",
    "    model.eval()\n",
    "    \n",
    "    with torch.no_grad():\n",
    "        for batch, (X_test, y_test) in enumerate(data):\n",
    "            X_test = X_test.to(device)\n",
    "            y_test = y_test.to(device)\n",
    "\n",
    "            # Calculate loss (forward propagation)\n",
    "            test_preds = model(X_test)\n",
    "            test_loss  = loss_function(test_preds, y_test)\n",
    "            \n",
    "            # Calculate accuracy\n",
    "            test_preds_label = torch.argmax(test_preds, dim=1)\n",
    "            num_correct += torch.sum(test_preds_label == y_test)\n",
    "            num_samples += len(y_test)\n",
    "        \n",
    "    # model.train()\n",
    "    \n",
    "    test_acc = num_correct/num_samples\n",
    "    \n",
    "    return test_loss, test_acc"
   ]
  },
  {
   "cell_type": "code",
   "execution_count": 9,
   "metadata": {},
   "outputs": [
    {
     "name": "stderr",
     "output_type": "stream",
     "text": [
      "100%|██████████| 329/329 [00:56<00:00,  5.78it/s]\n"
     ]
    },
    {
     "name": "stdout",
     "output_type": "stream",
     "text": [
      "Epoch: 1 \t| Train loss: 0.791 \t| Valid loss: 0.101 \t| Train acc: 0.82 \t| Valid acc: 0.97 \t| Learning Rate: 0.045000000000000005\n"
     ]
    },
    {
     "name": "stderr",
     "output_type": "stream",
     "text": [
      "100%|██████████| 329/329 [00:53<00:00,  6.20it/s]\n"
     ]
    },
    {
     "name": "stdout",
     "output_type": "stream",
     "text": [
      "Epoch: 2 \t| Train loss: 0.42 \t| Valid loss: 0.032 \t| Train acc: 0.98 \t| Valid acc: 0.98 \t| Learning Rate: 0.04050000000000001\n"
     ]
    },
    {
     "name": "stderr",
     "output_type": "stream",
     "text": [
      "100%|██████████| 329/329 [00:53<00:00,  6.20it/s]\n"
     ]
    },
    {
     "name": "stdout",
     "output_type": "stream",
     "text": [
      "Epoch: 3 \t| Train loss: 0.1 \t| Valid loss: 0.07 \t| Train acc: 0.99 \t| Valid acc: 0.99 \t| Learning Rate: 0.03645000000000001\n"
     ]
    },
    {
     "name": "stderr",
     "output_type": "stream",
     "text": [
      "100%|██████████| 329/329 [00:53<00:00,  6.20it/s]\n"
     ]
    },
    {
     "name": "stdout",
     "output_type": "stream",
     "text": [
      "Epoch: 4 \t| Train loss: 0.002 \t| Valid loss: 0.039 \t| Train acc: 1.0 \t| Valid acc: 0.99 \t| Learning Rate: 0.03280500000000001\n"
     ]
    },
    {
     "name": "stderr",
     "output_type": "stream",
     "text": [
      "100%|██████████| 329/329 [00:53<00:00,  6.20it/s]\n"
     ]
    },
    {
     "name": "stdout",
     "output_type": "stream",
     "text": [
      "Epoch: 5 \t| Train loss: 0.0 \t| Valid loss: 0.029 \t| Train acc: 1.0 \t| Valid acc: 0.99 \t| Learning Rate: 0.02952450000000001\n"
     ]
    },
    {
     "name": "stderr",
     "output_type": "stream",
     "text": [
      "100%|██████████| 329/329 [00:53<00:00,  6.20it/s]\n"
     ]
    },
    {
     "name": "stdout",
     "output_type": "stream",
     "text": [
      "Epoch: 6 \t| Train loss: 0.0 \t| Valid loss: 0.087 \t| Train acc: 1.0 \t| Valid acc: 0.98 \t| Learning Rate: 0.02657205000000001\n"
     ]
    },
    {
     "name": "stderr",
     "output_type": "stream",
     "text": [
      "100%|██████████| 329/329 [00:53<00:00,  6.20it/s]\n"
     ]
    },
    {
     "name": "stdout",
     "output_type": "stream",
     "text": [
      "Epoch: 7 \t| Train loss: 0.0 \t| Valid loss: 0.212 \t| Train acc: 1.0 \t| Valid acc: 0.99 \t| Learning Rate: 0.02391484500000001\n"
     ]
    },
    {
     "name": "stderr",
     "output_type": "stream",
     "text": [
      "100%|██████████| 329/329 [00:53<00:00,  6.20it/s]\n"
     ]
    },
    {
     "name": "stdout",
     "output_type": "stream",
     "text": [
      "Epoch: 8 \t| Train loss: 0.0 \t| Valid loss: 0.001 \t| Train acc: 1.0 \t| Valid acc: 0.99 \t| Learning Rate: 0.021523360500000012\n"
     ]
    },
    {
     "name": "stderr",
     "output_type": "stream",
     "text": [
      "100%|██████████| 329/329 [00:53<00:00,  6.20it/s]\n"
     ]
    },
    {
     "name": "stdout",
     "output_type": "stream",
     "text": [
      "Epoch: 9 \t| Train loss: 0.0 \t| Valid loss: 0.042 \t| Train acc: 1.0 \t| Valid acc: 0.99 \t| Learning Rate: 0.01937102445000001\n"
     ]
    },
    {
     "name": "stderr",
     "output_type": "stream",
     "text": [
      "100%|██████████| 329/329 [00:53<00:00,  6.20it/s]\n"
     ]
    },
    {
     "name": "stdout",
     "output_type": "stream",
     "text": [
      "Epoch: 10 \t| Train loss: 0.0 \t| Valid loss: 0.038 \t| Train acc: 1.0 \t| Valid acc: 0.99 \t| Learning Rate: 0.01743392200500001\n"
     ]
    },
    {
     "name": "stderr",
     "output_type": "stream",
     "text": [
      "100%|██████████| 329/329 [00:53<00:00,  6.19it/s]\n"
     ]
    },
    {
     "name": "stdout",
     "output_type": "stream",
     "text": [
      "Epoch: 11 \t| Train loss: 0.0 \t| Valid loss: 0.059 \t| Train acc: 1.0 \t| Valid acc: 0.99 \t| Learning Rate: 0.015690529804500006\n"
     ]
    },
    {
     "name": "stderr",
     "output_type": "stream",
     "text": [
      " 16%|█▌        | 53/329 [00:08<00:44,  6.16it/s]\n"
     ]
    },
    {
     "ename": "KeyboardInterrupt",
     "evalue": "",
     "output_type": "error",
     "traceback": [
      "\u001b[0;31m---------------------------------------------------------------------------\u001b[0m",
      "\u001b[0;31mKeyboardInterrupt\u001b[0m                         Traceback (most recent call last)",
      "Cell \u001b[0;32mIn[9], line 16\u001b[0m\n\u001b[1;32m     14\u001b[0m num_samples_train \u001b[38;5;241m=\u001b[39m \u001b[38;5;241m0\u001b[39m\n\u001b[1;32m     15\u001b[0m \u001b[38;5;28;01mfor\u001b[39;00m batch, (X_train, y_train) \u001b[38;5;129;01min\u001b[39;00m tqdm(\u001b[38;5;28menumerate\u001b[39m(train_loader), total\u001b[38;5;241m=\u001b[39m\u001b[38;5;28mlen\u001b[39m(train_loader)):\n\u001b[0;32m---> 16\u001b[0m     X_train \u001b[38;5;241m=\u001b[39m \u001b[43mX_train\u001b[49m\u001b[38;5;241;43m.\u001b[39;49m\u001b[43mto\u001b[49m\u001b[43m(\u001b[49m\u001b[43mdevice\u001b[49m\u001b[43m)\u001b[49m\n\u001b[1;32m     17\u001b[0m     y_train \u001b[38;5;241m=\u001b[39m y_train\u001b[38;5;241m.\u001b[39mto(device)\n\u001b[1;32m     20\u001b[0m     optimizer\u001b[38;5;241m.\u001b[39mzero_grad()\n",
      "\u001b[0;31mKeyboardInterrupt\u001b[0m: "
     ]
    }
   ],
   "source": [
    "from torch.backends import cudnn\n",
    "cudnn.benchmark = True # fast training\n",
    "\n",
    "#The Training Loop\n",
    "train_losses = []    # Training and testing loss was calculated based on the last batch of each epoch.\n",
    "test_losses  = []\n",
    "train_accs = []\n",
    "test_accs  = []\n",
    "num_epochs = 20\n",
    "\n",
    "for epoch in range(num_epochs):\n",
    "    \n",
    "    num_correct_train = 0\n",
    "    num_samples_train = 0\n",
    "    for batch, (X_train, y_train) in tqdm(enumerate(train_loader), total=len(train_loader)):\n",
    "        X_train = X_train.to(device)\n",
    "        y_train = y_train.to(device)\n",
    "        \n",
    "\n",
    "        optimizer.zero_grad()\n",
    "        # Forward propagation\n",
    "        train_preds = model(X_train)        \n",
    "        train_loss = loss_function(train_preds, y_train)\n",
    "        \n",
    "        # # Calculate train accuracy\n",
    "        \n",
    "            \n",
    "        # Backward propagation\n",
    "        # optimizer.zero_grad()   \n",
    "        train_loss.backward()        \n",
    "        # Gradient descent\n",
    "        optimizer.step()        \n",
    "\n",
    "        # with torch.no_grad():\n",
    "        train_preds_label = torch.argmax(train_preds, dim=1)       \n",
    "        num_correct_train += torch.sum(train_preds_label == y_train)\n",
    "        num_samples_train += len(y_train)\n",
    "        \n",
    "    scheduler.step()\n",
    "    # print(f\"Epoch {epoch+1}/{num_epochs}, Learning Rate: {optimizer.param_groups[0]['lr']}\")\n",
    "\n",
    "    train_acc = num_correct_train/num_samples_train\n",
    "    test_loss, test_acc = predict_data(model, valid_loader)\n",
    "    \n",
    "    train_losses.append(train_loss.item())\n",
    "    test_losses.append(test_loss.item())\n",
    "    train_accs.append(train_acc.item())\n",
    "    test_accs.append(test_acc.item())\n",
    "        \n",
    "    print(f'Epoch: {epoch+1} \\t|' \\\n",
    "            f' Train loss: {np.round(train_loss.item(),3)} \\t|' \\\n",
    "            f' Valid loss: {np.round(test_loss.item(),3)} \\t|' \\\n",
    "            f' Train acc: {np.round(train_acc.item(),2)} \\t|' \\\n",
    "            f' Valid acc: {np.round(test_acc.item(),2)} \\t|' \\\n",
    "            f' Learning Rate: {optimizer.param_groups[0][\"lr\"]}' )"
   ]
  },
  {
   "cell_type": "code",
   "execution_count": 12,
   "metadata": {},
   "outputs": [
    {
     "name": "stdout",
     "output_type": "stream",
     "text": [
      "range(1, 11)\n"
     ]
    },
    {
     "data": {
      "image/png": "[encoded data removed]",
      "text/plain": [
       "<Figure size 1000x600 with 1 Axes>"
      ]
     },
     "metadata": {},
     "output_type": "display_data"
    }
   ],
   "source": [
    "#Evaluation\n",
    "plt.figure(figsize=(10,6))\n",
    "plt.grid()\n",
    "epochs = range(1, len(train_losses))\n",
    "print(epochs)\n",
    "plt.plot(epochs,train_losses[:10])\n",
    "# plt.plot(epochs,test_losses)\n",
    "plt.legend(['train_losses', 'valid_losses'])\n",
    "plt.xlabel('epoch')\n",
    "plt.ylabel('loss')\n",
    "plt.xticks(epochs)\n",
    "plt.show()"
   ]
  },
  {
   "cell_type": "code",
   "execution_count": null,
   "metadata": {},
   "outputs": [],
   "source": [
    "plt.figure(figsize=(10,6))\n",
    "plt.grid()\n",
    "plt.plot(train_accs)\n",
    "plt.plot(test_accs)\n",
    "plt.legend(['train_accs', 'test_accs'])\n",
    "plt.xlabel('epoch')\n",
    "plt.ylabel('accuracy')\n",
    "plt.show()"
   ]
  },
  {
   "cell_type": "code",
   "execution_count": 11,
   "metadata": {},
   "outputs": [
    {
     "name": "stdout",
     "output_type": "stream",
     "text": [
      "Accuracy: 98.95%\n"
     ]
    }
   ],
   "source": [
    "# model = torch.load('path_to_your_best_LeNet.pth')\n",
    "model.eval()\n",
    "accuracy = []\n",
    "correct = 0\n",
    "total = 0\n",
    "with torch.no_grad():\n",
    "    for images, labels in test_loader:\n",
    "        images = images.to(device)\n",
    "        labels = labels.to(device)\n",
    "        outputs = model(images)\n",
    "        _, predicted = torch.max(outputs.data, 1)\n",
    "        total += labels.size(0)\n",
    "        correct += (predicted == labels).sum().item()\n",
    "\n",
    "accuracy = 100* correct / total\n",
    "print('Accuracy: {:.2f}%'.format(accuracy))"
   ]
  }
 ],
 "metadata": {
  "kernelspec": {
   "display_name": "tf",
   "language": "python",
   "name": "python3"
  },
  "language_info": {
   "codemirror_mode": {
    "name": "ipython",
    "version": 3
   },
   "file_extension": ".py",
   "mimetype": "text/x-python",
   "name": "python",
   "nbconvert_exporter": "python",
   "pygments_lexer": "ipython3",
   "version": "3.8.18"
  }
 },
 "nbformat": 4,
 "nbformat_minor": 2
}
