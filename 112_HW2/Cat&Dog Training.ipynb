{
 "cells": [
  {
   "cell_type": "code",
   "execution_count": 32,
   "metadata": {},
   "outputs": [],
   "source": [
    "import os\n",
    "import cv2\n",
    "import numpy as np\n",
    "import matplotlib.pyplot as plt\n",
    "from PIL import Image\n",
    "import torch\n",
    "import torch.nn as nn\n",
    "import torch.optim as optim\n",
    "import torch.nn.functional as F\n",
    "import torchvision.transforms as transforms\n",
    "from tqdm import tqdm\n",
    "from torchinfo import summary\n",
    "from torch.utils.data import DataLoader\n",
    "from torchsummary import summary\n",
    "from torch.optim.lr_scheduler import StepLR\n",
    "import torchvision\n",
    "import os\n",
    "\n",
    "os.environ[\"CUDA_VISIBLE_DEVICES\"] = \"1\" "
   ]
  },
  {
   "cell_type": "code",
   "execution_count": 33,
   "metadata": {},
   "outputs": [],
   "source": [
    "#Load Images\n",
    "def load_images(path):\n",
    "\n",
    "    images = []\n",
    "    filenames = os.listdir(path)\n",
    "    \n",
    "    for filename in tqdm(filenames): \n",
    "        if filename == '_DS_Store':\n",
    "            continue\n",
    "        image = cv2.imread(os.path.join(path, filename))\n",
    "        image = cv2.resize(image, dsize=(128,128))\n",
    "        image = cv2.cvtColor(image, cv2.COLOR_BGR2RGB)\n",
    "        images.append(image)\n",
    "    \n",
    "    return np.array(images)"
   ]
  },
  {
   "cell_type": "code",
   "execution_count": 34,
   "metadata": {},
   "outputs": [
    {
     "name": "stderr",
     "output_type": "stream",
     "text": [
      "100%|██████████| 10000/10000 [00:07<00:00, 1319.62it/s]\n",
      "100%|██████████| 10000/10000 [00:07<00:00, 1263.99it/s]\n",
      "100%|██████████| 2500/2500 [00:01<00:00, 1318.40it/s]\n",
      "100%|██████████| 2500/2500 [00:01<00:00, 1267.74it/s]\n"
     ]
    }
   ],
   "source": [
    "#載入資料\n",
    "cats_train = load_images('/home/ttsai/DL_HW2/train/cat')\n",
    "dogs_train = load_images('/home/ttsai/DL_HW2/train/dog')\n",
    "\n",
    "cats_test = load_images('/home/ttsai/DL_HW2/test/cat')\n",
    "dogs_test = load_images('/home/ttsai/DL_HW2/test/dog')\n"
   ]
  },
  {
   "cell_type": "code",
   "execution_count": 35,
   "metadata": {},
   "outputs": [
    {
     "name": "stdout",
     "output_type": "stream",
     "text": [
      "(10000, 128, 128, 3)\n",
      "(10000, 128, 128, 3)\n",
      "(2500, 128, 128, 3)\n",
      "(2500, 128, 128, 3)\n"
     ]
    }
   ],
   "source": [
    "#檢查陣列的形狀以及調整後的size\n",
    "print(cats_train.shape)\n",
    "print(dogs_train.shape)\n",
    "print(cats_test.shape)\n",
    "print(dogs_test.shape)"
   ]
  },
  {
   "cell_type": "code",
   "execution_count": 36,
   "metadata": {},
   "outputs": [
    {
     "name": "stdout",
     "output_type": "stream",
     "text": [
      "(20000, 128, 128, 3)\n",
      "(5000, 128, 128, 3)\n"
     ]
    }
   ],
   "source": [
    "#將所有訓練資料和測試資料放入同一個陣列中\n",
    "X_train = np.append(cats_train, dogs_train, axis=0)\n",
    "X_test  = np.append(cats_test, dogs_test, axis=0)\n",
    "\n",
    "print(X_train.shape)\n",
    "print(X_test.shape)"
   ]
  },
  {
   "cell_type": "code",
   "execution_count": 37,
   "metadata": {},
   "outputs": [
    {
     "name": "stdout",
     "output_type": "stream",
     "text": [
      "(20000,)\n",
      "(5000,)\n"
     ]
    }
   ],
   "source": [
    "#Creating Labels\n",
    "y_train = np.array([0] * len(cats_train) + [1] * len(dogs_train))\n",
    "y_test = np.array([0] * len(cats_test) + [1] * len(dogs_test))\n",
    "\n",
    "print(y_train.shape)\n",
    "print(y_test.shape)"
   ]
  },
  {
   "cell_type": "code",
   "execution_count": 38,
   "metadata": {},
   "outputs": [],
   "source": [
    "#Displaying Several Images\n",
    "def show_images(images, labels, start_index):\n",
    "    fig, axes = plt.subplots(nrows=4, ncols=8, figsize=(20,12))\n",
    "\n",
    "    counter = start_index\n",
    "\n",
    "    for i in range(4):\n",
    "        for j in range(8):\n",
    "            axes[i,j].set_title(labels[counter].item())\n",
    "            axes[i,j].imshow(images[counter], cmap='gray')\n",
    "            axes[i,j].get_xaxis().set_visible(False)\n",
    "            axes[i,j].get_yaxis().set_visible(False)\n",
    "            counter += 1\n",
    "    plt.show()"
   ]
  },
  {
   "cell_type": "code",
   "execution_count": 39,
   "metadata": {},
   "outputs": [],
   "source": [
    "# show_images(X_train, y_train, 0)"
   ]
  },
  {
   "cell_type": "code",
   "execution_count": 40,
   "metadata": {},
   "outputs": [
    {
     "name": "stdout",
     "output_type": "stream",
     "text": [
      "1\n"
     ]
    }
   ],
   "source": [
    "y_train = y_train.squeeze()\n",
    "y_test = y_test.squeeze()\n",
    "\n",
    "print(y_train[-1])\n"
   ]
  },
  {
   "cell_type": "code",
   "execution_count": 41,
   "metadata": {},
   "outputs": [],
   "source": [
    "#Image Preprocessing and Augmentation\n",
    "transforms_train = transforms.Compose([transforms.ToTensor(), # convert to tensor\n",
    "                                       transforms.RandomRotation(degrees=20), \n",
    "                                       transforms.RandomHorizontalFlip(p=0.5), \n",
    "                                       transforms.RandomVerticalFlip(p=0.005), \n",
    "                                       transforms.RandomGrayscale(p=0.2), \n",
    "                                       transforms.Normalize(mean=[0.5,0.5,0.5], std=[0.5,0.5,0.5]) # squeeze to -1 and 1\n",
    "                                      ])"
   ]
  },
  {
   "cell_type": "code",
   "execution_count": 42,
   "metadata": {},
   "outputs": [],
   "source": [
    "transforms_test = transforms.Compose([transforms.ToTensor(), \n",
    "                                     transforms.Normalize([0.5,0.5,0.5], [0.5,0.5,0.5])])"
   ]
  },
  {
   "cell_type": "code",
   "execution_count": 43,
   "metadata": {},
   "outputs": [],
   "source": [
    "#Custom Dataset Class & Data Loader\n",
    "class Cat_Dog_Dataset():\n",
    "    def __init__(self, images, labels, transform=None):\n",
    "        self.images = images\n",
    "        self.labels = labels\n",
    "        self.transform = transform\n",
    "    \n",
    "    def __len__(self):\n",
    "        return len(self.images)\n",
    "    \n",
    "    def __getitem__(self, index):\n",
    "        image = self.images[index]\n",
    "        label = self.labels[index]\n",
    "        \n",
    "        if self.transform:\n",
    "            image = Image.fromarray(image)\n",
    "            image = self.transform(image)\n",
    "        \n",
    "        return (image, label)"
   ]
  },
  {
   "cell_type": "code",
   "execution_count": 44,
   "metadata": {},
   "outputs": [],
   "source": [
    "train_dataset = Cat_Dog_Dataset(images=X_train, labels=y_train, transform=transforms_train)\n",
    "test_dataset  = Cat_Dog_Dataset(images=X_test, labels=y_test, transform=transforms_test)"
   ]
  },
  {
   "cell_type": "code",
   "execution_count": 45,
   "metadata": {},
   "outputs": [],
   "source": [
    "#Data Loader\n",
    "train_loader = DataLoader(train_dataset, batch_size=16, shuffle=True, drop_last=True,pin_memory=True)\n",
    "test_loader  = DataLoader(test_dataset, batch_size=16, shuffle=True, drop_last=True,pin_memory=True)"
   ]
  },
  {
   "cell_type": "code",
   "execution_count": 46,
   "metadata": {},
   "outputs": [],
   "source": [
    "# #Visualizing Some Augmented Images\n",
    "# iterator = iter(train_loader)\n",
    "# image_batch, label_batch = next(iterator)\n",
    "\n",
    "# print(image_batch.shape)\n",
    "# image_batch_permuted = image_batch.permute(0, 2, 3, 1)\n",
    "\n",
    "# print(image_batch_permuted.shape)\n",
    "\n",
    "# show_images(image_batch_permuted, label_batch, 0)"
   ]
  },
  {
   "cell_type": "code",
   "execution_count": 47,
   "metadata": {},
   "outputs": [],
   "source": [
    "#Create LeNet5 Model\n",
    "class LeNet5(nn.Module):\n",
    "    def __init__(self, num_classes=2):  # 修改這裡的參數名稱\n",
    "        super(LeNet5, self).__init__()\n",
    "        self.features = nn.Sequential(\n",
    "            nn.Conv2d(3, 32, kernel_size=5),\n",
    "            nn.ReLU(inplace=True),\n",
    "            nn.MaxPool2d(kernel_size=2),\n",
    "            nn.Conv2d(32, 64, kernel_size=5),\n",
    "            nn.ReLU(inplace=True),\n",
    "            nn.MaxPool2d(kernel_size=2),\n",
    "            nn.Conv2d(64, 128, kernel_size=5),\n",
    "            nn.ReLU(inplace=True),\n",
    "            nn.MaxPool2d(kernel_size=2)\n",
    "        )\n",
    "        self.classifier = nn.Sequential(\n",
    "            nn.Linear(128*12*12, 1024),\n",
    "            nn.ReLU(inplace=True),\n",
    "            nn.Dropout(0.5),\n",
    "            nn.Linear(1024, 512),\n",
    "            nn.ReLU(inplace=True),\n",
    "            nn.Dropout(0.5),\n",
    "            nn.Linear(512, num_classes)  # 這裡修改為 num_classes\n",
    "        )\n",
    "\n",
    "    def forward(self, x):\n",
    "        x = self.features(x)\n",
    "        # print(x.shape)\n",
    "        x = torch.flatten(x, 1)\n",
    "        x = self.classifier(x)\n",
    "        return x\n"
   ]
  },
  {
   "cell_type": "code",
   "execution_count": 48,
   "metadata": {},
   "outputs": [
    {
     "name": "stdout",
     "output_type": "stream",
     "text": [
      "AlexNet(\n",
      "  (features): Sequential(\n",
      "    (0): Conv2d(3, 64, kernel_size=(11, 11), stride=(4, 4), padding=(2, 2))\n",
      "    (1): ReLU(inplace=True)\n",
      "    (2): MaxPool2d(kernel_size=3, stride=2, padding=0, dilation=1, ceil_mode=False)\n",
      "    (3): Conv2d(64, 192, kernel_size=(5, 5), stride=(1, 1), padding=(2, 2))\n",
      "    (4): ReLU(inplace=True)\n",
      "    (5): MaxPool2d(kernel_size=3, stride=2, padding=0, dilation=1, ceil_mode=False)\n",
      "    (6): Conv2d(192, 384, kernel_size=(3, 3), stride=(1, 1), padding=(1, 1))\n",
      "    (7): ReLU(inplace=True)\n",
      "    (8): Conv2d(384, 256, kernel_size=(3, 3), stride=(1, 1), padding=(1, 1))\n",
      "    (9): ReLU(inplace=True)\n",
      "    (10): Conv2d(256, 256, kernel_size=(3, 3), stride=(1, 1), padding=(1, 1))\n",
      "    (11): ReLU(inplace=True)\n",
      "    (12): MaxPool2d(kernel_size=3, stride=2, padding=0, dilation=1, ceil_mode=False)\n",
      "  )\n",
      "  (avgpool): AdaptiveAvgPool2d(output_size=(6, 6))\n",
      "  (classifier): Sequential(\n",
      "    (0): Dropout(p=0.5, inplace=False)\n",
      "    (1): Linear(in_features=9216, out_features=4096, bias=True)\n",
      "    (2): ReLU(inplace=True)\n",
      "    (3): Dropout(p=0.5, inplace=False)\n",
      "    (4): Linear(in_features=4096, out_features=4096, bias=True)\n",
      "    (5): ReLU(inplace=True)\n",
      "    (6): Linear(in_features=4096, out_features=1000, bias=True)\n",
      "  )\n",
      ")\n"
     ]
    }
   ],
   "source": [
    "import torchvision.models as models\n",
    "# model = LeNet5(num_classes=2)\n",
    "model = models.alexnet(pretrained=True)\n",
    "# num_classes = 2  # 两个类别\n",
    "# model.classifier[6] = nn.Linear(4096, num_classes)\n",
    "print(model)\n",
    "device = torch.device(\"cuda\" if torch.cuda.is_available() else \"cpu\")\n",
    "model = model.to(device)\n",
    "\n",
    "# summary(model, (3, 128, 128))  # 此處的(3, 128, 128)是你期望的輸入圖像的形狀"
   ]
  },
  {
   "cell_type": "code",
   "execution_count": 49,
   "metadata": {},
   "outputs": [],
   "source": [
    "#Model Training\n",
    "loss_function = nn.CrossEntropyLoss()\n",
    "optimizer = optim.SGD(model.parameters(), lr=0.001,momentum=0.9)\n",
    "# optimizer = optim.Adam(model.parameters(), lr=0.01)\n",
    "scheduler = StepLR(optimizer, step_size=1, gamma=0.9)"
   ]
  },
  {
   "cell_type": "code",
   "execution_count": 50,
   "metadata": {},
   "outputs": [],
   "source": [
    "#A Function to Predict Test Data\n",
    "def predict_data(model, data):\n",
    "    \n",
    "    num_correct = 0\n",
    "    num_samples = 0\n",
    "    \n",
    "    model.eval()\n",
    "    \n",
    "    with torch.no_grad():\n",
    "        for batch, (X_test, y_test) in enumerate(data):\n",
    "            X_test = X_test.to(device)\n",
    "            y_test = y_test.to(device)\n",
    "\n",
    "            # Calculate loss (forward propagation)\n",
    "            test_preds = model(X_test)\n",
    "            test_loss  = loss_function(test_preds, y_test)\n",
    "            \n",
    "            # Calculate accuracy\n",
    "            test_preds_label = torch.argmax(test_preds, dim=1)\n",
    "            num_correct += torch.sum(test_preds_label == y_test)\n",
    "            num_samples += len(y_test)\n",
    "        \n",
    "    # model.train()\n",
    "    \n",
    "    test_acc = num_correct/num_samples\n",
    "    \n",
    "    return test_loss, test_acc"
   ]
  },
  {
   "cell_type": "code",
   "execution_count": 51,
   "metadata": {},
   "outputs": [
    {
     "name": "stderr",
     "output_type": "stream",
     "text": [
      "100%|██████████| 1250/1250 [00:19<00:00, 65.31it/s]\n"
     ]
    },
    {
     "name": "stdout",
     "output_type": "stream",
     "text": [
      "Epoch: 1 \t| Train loss: 0.251 \t| Test loss: 0.288 \t| Train acc: 0.78 \t| Test acc: 0.89 \t| Learning Rate: 0.0009000000000000001\n"
     ]
    },
    {
     "name": "stderr",
     "output_type": "stream",
     "text": [
      "100%|██████████| 1250/1250 [00:18<00:00, 66.33it/s]\n"
     ]
    },
    {
     "name": "stdout",
     "output_type": "stream",
     "text": [
      "Epoch: 2 \t| Train loss: 0.234 \t| Test loss: 0.206 \t| Train acc: 0.87 \t| Test acc: 0.91 \t| Learning Rate: 0.0008100000000000001\n"
     ]
    },
    {
     "name": "stderr",
     "output_type": "stream",
     "text": [
      "100%|██████████| 1250/1250 [00:18<00:00, 67.56it/s]\n"
     ]
    },
    {
     "name": "stdout",
     "output_type": "stream",
     "text": [
      "Epoch: 3 \t| Train loss: 0.076 \t| Test loss: 0.213 \t| Train acc: 0.9 \t| Test acc: 0.93 \t| Learning Rate: 0.000729\n"
     ]
    },
    {
     "name": "stderr",
     "output_type": "stream",
     "text": [
      "100%|██████████| 1250/1250 [00:18<00:00, 68.41it/s]\n"
     ]
    },
    {
     "name": "stdout",
     "output_type": "stream",
     "text": [
      "Epoch: 4 \t| Train loss: 0.167 \t| Test loss: 0.177 \t| Train acc: 0.92 \t| Test acc: 0.93 \t| Learning Rate: 0.0006561000000000001\n"
     ]
    },
    {
     "name": "stderr",
     "output_type": "stream",
     "text": [
      "100%|██████████| 1250/1250 [00:20<00:00, 62.17it/s]\n"
     ]
    },
    {
     "name": "stdout",
     "output_type": "stream",
     "text": [
      "Epoch: 5 \t| Train loss: 0.175 \t| Test loss: 0.112 \t| Train acc: 0.92 \t| Test acc: 0.93 \t| Learning Rate: 0.00059049\n"
     ]
    },
    {
     "name": "stderr",
     "output_type": "stream",
     "text": [
      "100%|██████████| 1250/1250 [00:26<00:00, 47.94it/s]\n"
     ]
    },
    {
     "name": "stdout",
     "output_type": "stream",
     "text": [
      "Epoch: 6 \t| Train loss: 0.427 \t| Test loss: 0.023 \t| Train acc: 0.93 \t| Test acc: 0.94 \t| Learning Rate: 0.000531441\n"
     ]
    },
    {
     "name": "stderr",
     "output_type": "stream",
     "text": [
      "100%|██████████| 1250/1250 [00:26<00:00, 48.06it/s]\n"
     ]
    },
    {
     "name": "stdout",
     "output_type": "stream",
     "text": [
      "Epoch: 7 \t| Train loss: 0.191 \t| Test loss: 0.228 \t| Train acc: 0.94 \t| Test acc: 0.93 \t| Learning Rate: 0.0004782969\n"
     ]
    },
    {
     "name": "stderr",
     "output_type": "stream",
     "text": [
      "100%|██████████| 1250/1250 [00:25<00:00, 48.91it/s]\n"
     ]
    },
    {
     "name": "stdout",
     "output_type": "stream",
     "text": [
      "Epoch: 8 \t| Train loss: 0.076 \t| Test loss: 0.272 \t| Train acc: 0.94 \t| Test acc: 0.94 \t| Learning Rate: 0.00043046721\n"
     ]
    },
    {
     "name": "stderr",
     "output_type": "stream",
     "text": [
      "100%|██████████| 1250/1250 [00:26<00:00, 46.55it/s]\n"
     ]
    },
    {
     "name": "stdout",
     "output_type": "stream",
     "text": [
      "Epoch: 9 \t| Train loss: 0.022 \t| Test loss: 0.806 \t| Train acc: 0.95 \t| Test acc: 0.94 \t| Learning Rate: 0.000387420489\n"
     ]
    },
    {
     "name": "stderr",
     "output_type": "stream",
     "text": [
      "100%|██████████| 1250/1250 [00:25<00:00, 48.09it/s]\n"
     ]
    },
    {
     "name": "stdout",
     "output_type": "stream",
     "text": [
      "Epoch: 10 \t| Train loss: 0.017 \t| Test loss: 0.058 \t| Train acc: 0.95 \t| Test acc: 0.94 \t| Learning Rate: 0.0003486784401\n"
     ]
    },
    {
     "name": "stderr",
     "output_type": "stream",
     "text": [
      "100%|██████████| 1250/1250 [00:24<00:00, 51.02it/s]\n"
     ]
    },
    {
     "name": "stdout",
     "output_type": "stream",
     "text": [
      "Epoch: 11 \t| Train loss: 0.117 \t| Test loss: 0.05 \t| Train acc: 0.96 \t| Test acc: 0.95 \t| Learning Rate: 0.00031381059609000004\n"
     ]
    },
    {
     "name": "stderr",
     "output_type": "stream",
     "text": [
      "100%|██████████| 1250/1250 [00:25<00:00, 49.01it/s]\n"
     ]
    },
    {
     "name": "stdout",
     "output_type": "stream",
     "text": [
      "Epoch: 12 \t| Train loss: 0.058 \t| Test loss: 0.228 \t| Train acc: 0.96 \t| Test acc: 0.94 \t| Learning Rate: 0.00028242953648100003\n"
     ]
    },
    {
     "name": "stderr",
     "output_type": "stream",
     "text": [
      "100%|██████████| 1250/1250 [00:25<00:00, 48.52it/s]\n"
     ]
    },
    {
     "name": "stdout",
     "output_type": "stream",
     "text": [
      "Epoch: 13 \t| Train loss: 0.023 \t| Test loss: 0.403 \t| Train acc: 0.96 \t| Test acc: 0.94 \t| Learning Rate: 0.00025418658283290005\n"
     ]
    },
    {
     "name": "stderr",
     "output_type": "stream",
     "text": [
      "100%|██████████| 1250/1250 [00:26<00:00, 47.84it/s]\n"
     ]
    },
    {
     "name": "stdout",
     "output_type": "stream",
     "text": [
      "Epoch: 14 \t| Train loss: 0.103 \t| Test loss: 0.101 \t| Train acc: 0.97 \t| Test acc: 0.95 \t| Learning Rate: 0.00022876792454961005\n"
     ]
    },
    {
     "name": "stderr",
     "output_type": "stream",
     "text": [
      "100%|██████████| 1250/1250 [00:26<00:00, 46.40it/s]\n"
     ]
    },
    {
     "name": "stdout",
     "output_type": "stream",
     "text": [
      "Epoch: 15 \t| Train loss: 0.051 \t| Test loss: 0.301 \t| Train acc: 0.97 \t| Test acc: 0.94 \t| Learning Rate: 0.00020589113209464906\n"
     ]
    },
    {
     "name": "stderr",
     "output_type": "stream",
     "text": [
      "100%|██████████| 1250/1250 [00:27<00:00, 45.77it/s]\n"
     ]
    },
    {
     "name": "stdout",
     "output_type": "stream",
     "text": [
      "Epoch: 16 \t| Train loss: 0.08 \t| Test loss: 0.056 \t| Train acc: 0.97 \t| Test acc: 0.95 \t| Learning Rate: 0.00018530201888518417\n"
     ]
    },
    {
     "name": "stderr",
     "output_type": "stream",
     "text": [
      "100%|██████████| 1250/1250 [00:19<00:00, 63.87it/s]\n"
     ]
    },
    {
     "name": "stdout",
     "output_type": "stream",
     "text": [
      "Epoch: 17 \t| Train loss: 0.25 \t| Test loss: 0.012 \t| Train acc: 0.97 \t| Test acc: 0.95 \t| Learning Rate: 0.00016677181699666576\n"
     ]
    },
    {
     "name": "stderr",
     "output_type": "stream",
     "text": [
      "100%|██████████| 1250/1250 [00:23<00:00, 53.43it/s]\n"
     ]
    },
    {
     "name": "stdout",
     "output_type": "stream",
     "text": [
      "Epoch: 18 \t| Train loss: 0.01 \t| Test loss: 0.087 \t| Train acc: 0.97 \t| Test acc: 0.95 \t| Learning Rate: 0.0001500946352969992\n"
     ]
    },
    {
     "name": "stderr",
     "output_type": "stream",
     "text": [
      "100%|██████████| 1250/1250 [00:22<00:00, 55.75it/s]\n"
     ]
    },
    {
     "name": "stdout",
     "output_type": "stream",
     "text": [
      "Epoch: 19 \t| Train loss: 0.078 \t| Test loss: 0.155 \t| Train acc: 0.98 \t| Test acc: 0.95 \t| Learning Rate: 0.0001350851717672993\n"
     ]
    },
    {
     "name": "stderr",
     "output_type": "stream",
     "text": [
      "100%|██████████| 1250/1250 [00:25<00:00, 49.02it/s]\n"
     ]
    },
    {
     "name": "stdout",
     "output_type": "stream",
     "text": [
      "Epoch: 20 \t| Train loss: 0.04 \t| Test loss: 0.04 \t| Train acc: 0.98 \t| Test acc: 0.95 \t| Learning Rate: 0.00012157665459056936\n"
     ]
    }
   ],
   "source": [
    "from torch.backends import cudnn\n",
    "cudnn.benchmark = True # fast training\n",
    "\n",
    "#The Training Loop\n",
    "train_losses = []    # Training and testing loss was calculated based on the last batch of each epoch.\n",
    "test_losses  = []\n",
    "train_accs = []\n",
    "test_accs  = []\n",
    "num_epochs = 20\n",
    "\n",
    "for epoch in range(num_epochs):\n",
    "    \n",
    "    num_correct_train = 0\n",
    "    num_samples_train = 0\n",
    "    for batch, (X_train, y_train) in tqdm(enumerate(train_loader), total=len(train_loader)):\n",
    "        X_train = X_train.to(device)\n",
    "        y_train = y_train.to(device)\n",
    "        \n",
    "\n",
    "        optimizer.zero_grad()\n",
    "        # Forward propagation\n",
    "        train_preds = model(X_train)        \n",
    "        train_loss = loss_function(train_preds, y_train)\n",
    "        \n",
    "        # # Calculate train accuracy\n",
    "        \n",
    "            \n",
    "        # Backward propagation\n",
    "        # optimizer.zero_grad()   \n",
    "        train_loss.backward()        \n",
    "        # Gradient descent\n",
    "        optimizer.step()        \n",
    "\n",
    "        # with torch.no_grad():\n",
    "        train_preds_label = torch.argmax(train_preds, dim=1)       \n",
    "        num_correct_train += torch.sum(train_preds_label == y_train)\n",
    "        num_samples_train += len(y_train)\n",
    "        \n",
    "    scheduler.step()\n",
    "    # print(f\"Epoch {epoch+1}/{num_epochs}, Learning Rate: {optimizer.param_groups[0]['lr']}\")\n",
    "\n",
    "    train_acc = num_correct_train/num_samples_train\n",
    "    test_loss, test_acc = predict_data(model, test_loader)\n",
    "    \n",
    "    train_losses.append(train_loss.item())\n",
    "    test_losses.append(test_loss.item())\n",
    "    train_accs.append(train_acc.item())\n",
    "    test_accs.append(test_acc.item())\n",
    "        \n",
    "    print(f'Epoch: {epoch+1} \\t|' \\\n",
    "            f' Train loss: {np.round(train_loss.item(),3)} \\t|' \\\n",
    "            f' Test loss: {np.round(test_loss.item(),3)} \\t|' \\\n",
    "            f' Train acc: {np.round(train_acc.item(),2)} \\t|' \\\n",
    "            f' Test acc: {np.round(test_acc.item(),2)} \\t|' \\\n",
    "            f' Learning Rate: {optimizer.param_groups[0][\"lr\"]}' )"
   ]
  },
  {
   "cell_type": "code",
   "execution_count": 53,
   "metadata": {},
   "outputs": [
    {
     "name": "stdout",
     "output_type": "stream",
     "text": [
      "range(1, 21)\n"
     ]
    },
    {
     "data": {
      "image/png": "[encoded data removed]",
      "text/plain": [
       "<Figure size 1000x600 with 1 Axes>"
      ]
     },
     "metadata": {},
     "output_type": "display_data"
    }
   ],
   "source": [
    "#Evaluation\n",
    "plt.figure(figsize=(10,6))\n",
    "plt.grid()\n",
    "epochs = range(1, len(train_losses) + 1)\n",
    "print(epochs)\n",
    "plt.plot(epochs,train_losses)\n",
    "plt.plot(epochs,test_losses)\n",
    "plt.legend(['train_losses', 'valid_losses'])\n",
    "plt.xlabel('epoch')\n",
    "plt.ylabel('loss')\n",
    "plt.xticks(epochs)\n",
    "plt.show()"
   ]
  },
  {
   "cell_type": "code",
   "execution_count": null,
   "metadata": {},
   "outputs": [],
   "source": [
    "plt.figure(figsize=(10,6))\n",
    "plt.grid()\n",
    "plt.plot(train_accs)\n",
    "plt.plot(test_accs)\n",
    "plt.legend(['train_accs', 'test_accs'])\n",
    "plt.xlabel('epoch')\n",
    "plt.ylabel('accuracy')\n",
    "plt.show()"
   ]
  },
  {
   "cell_type": "code",
   "execution_count": 54,
   "metadata": {},
   "outputs": [
    {
     "name": "stdout",
     "output_type": "stream",
     "text": [
      "Accuracy: 94.81%\n"
     ]
    }
   ],
   "source": [
    "# model = torch.load('path_to_your_best_LeNet.pth')\n",
    "model.eval()\n",
    "accuracy = []\n",
    "correct = 0\n",
    "total = 0\n",
    "with torch.no_grad():\n",
    "    for images, labels in test_loader:\n",
    "        images = images.to(device)\n",
    "        labels = labels.to(device)\n",
    "        outputs = model(images)\n",
    "        _, predicted = torch.max(outputs.data, 1)\n",
    "        total += labels.size(0)\n",
    "        correct += (predicted == labels).sum().item()\n",
    "\n",
    "accuracy = 100* correct / total\n",
    "print('Accuracy: {:.2f}%'.format(accuracy))"
   ]
  }
 ],
 "metadata": {
  "kernelspec": {
   "display_name": "tf",
   "language": "python",
   "name": "python3"
  },
  "language_info": {
   "codemirror_mode": {
    "name": "ipython",
    "version": 3
   },
   "file_extension": ".py",
   "mimetype": "text/x-python",
   "name": "python",
   "nbconvert_exporter": "python",
   "pygments_lexer": "ipython3",
   "version": "3.8.18"
  }
 },
 "nbformat": 4,
 "nbformat_minor": 2
}
